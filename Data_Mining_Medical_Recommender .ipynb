{
 "cells": [
  {
   "cell_type": "markdown",
   "metadata": {},
   "source": [
    "## Authors:\n",
    "### Bishoy George          Bishoy.George.eg@gmail.com\n",
    "### Toka Abd El Ghafar\n",
    "### Farah Mohamad\n",
    "### Zaynab El Agamy\n",
    "### Omar Ahmed Shihi\n",
    "\n"
   ]
  },
  {
   "cell_type": "code",
   "execution_count": 1,
   "metadata": {
    "colab": {
     "base_uri": "https://localhost:8080/"
    },
    "id": "ncIVcWJzW15U",
    "outputId": "83e6c76b-a319-4d3b-a0ba-5846c578ac6e"
   },
   "outputs": [],
   "source": [
    "import numpy as np\n",
    "import pandas as pd\n",
    "from mlxtend.frequent_patterns import apriori, association_rules"
   ]
  },
  {
   "cell_type": "code",
   "execution_count": 2,
   "metadata": {
    "colab": {
     "base_uri": "https://localhost:8080/",
     "height": 617
    },
    "id": "J8yupdoahRm5",
    "outputId": "7a95d3f1-4689-4d70-e6d6-4eb8a4a3d422"
   },
   "outputs": [
    {
     "data": {
      "text/html": [
       "<div>\n",
       "<style scoped>\n",
       "    .dataframe tbody tr th:only-of-type {\n",
       "        vertical-align: middle;\n",
       "    }\n",
       "\n",
       "    .dataframe tbody tr th {\n",
       "        vertical-align: top;\n",
       "    }\n",
       "\n",
       "    .dataframe thead th {\n",
       "        text-align: right;\n",
       "    }\n",
       "</style>\n",
       "<table border=\"1\" class=\"dataframe\">\n",
       "  <thead>\n",
       "    <tr style=\"text-align: right;\">\n",
       "      <th></th>\n",
       "      <th>Name</th>\n",
       "      <th>DateOfBirth</th>\n",
       "      <th>Gender</th>\n",
       "      <th>Symptoms</th>\n",
       "      <th>Causes</th>\n",
       "      <th>Disease</th>\n",
       "      <th>Medicine</th>\n",
       "    </tr>\n",
       "  </thead>\n",
       "  <tbody>\n",
       "    <tr>\n",
       "      <th>0</th>\n",
       "      <td>John Doe</td>\n",
       "      <td>15-05-1980</td>\n",
       "      <td>Male</td>\n",
       "      <td>Fever, Cough</td>\n",
       "      <td>Viral Infection</td>\n",
       "      <td>Common Cold</td>\n",
       "      <td>Ibuprofen, Rest</td>\n",
       "    </tr>\n",
       "    <tr>\n",
       "      <th>1</th>\n",
       "      <td>Jane Smith</td>\n",
       "      <td>10-08-1992</td>\n",
       "      <td>Female</td>\n",
       "      <td>Headache, Fatigue</td>\n",
       "      <td>Stress</td>\n",
       "      <td>Migraine</td>\n",
       "      <td>Sumatriptan</td>\n",
       "    </tr>\n",
       "    <tr>\n",
       "      <th>2</th>\n",
       "      <td>Michael Lee</td>\n",
       "      <td>20-02-1975</td>\n",
       "      <td>Male</td>\n",
       "      <td>Shortness of breath</td>\n",
       "      <td>Pollution</td>\n",
       "      <td>Asthma</td>\n",
       "      <td>Albuterol Inhaler</td>\n",
       "    </tr>\n",
       "    <tr>\n",
       "      <th>3</th>\n",
       "      <td>Emily Chen</td>\n",
       "      <td>03-11-1988</td>\n",
       "      <td>Female</td>\n",
       "      <td>Nausea, Vomiting</td>\n",
       "      <td>Food Poisoning</td>\n",
       "      <td>Gastroenteritis</td>\n",
       "      <td>Oral Rehydration</td>\n",
       "    </tr>\n",
       "    <tr>\n",
       "      <th>4</th>\n",
       "      <td>Alex Wong</td>\n",
       "      <td>12-06-2001</td>\n",
       "      <td>Male</td>\n",
       "      <td>Sore Throat</td>\n",
       "      <td>Bacterial Infection</td>\n",
       "      <td>Strep Throat</td>\n",
       "      <td>Penicillin</td>\n",
       "    </tr>\n",
       "    <tr>\n",
       "      <th>...</th>\n",
       "      <td>...</td>\n",
       "      <td>...</td>\n",
       "      <td>...</td>\n",
       "      <td>...</td>\n",
       "      <td>...</td>\n",
       "      <td>...</td>\n",
       "      <td>...</td>\n",
       "    </tr>\n",
       "    <tr>\n",
       "      <th>282</th>\n",
       "      <td>Ava Lim</td>\n",
       "      <td>11-07-1993</td>\n",
       "      <td>Female</td>\n",
       "      <td>Cough, Shortness of breath</td>\n",
       "      <td>COVID-19 Exposure</td>\n",
       "      <td>COVID-19</td>\n",
       "      <td>Isolation, Fluids</td>\n",
       "    </tr>\n",
       "    <tr>\n",
       "      <th>283</th>\n",
       "      <td>Liam Goh</td>\n",
       "      <td>16-09-1987</td>\n",
       "      <td>Male</td>\n",
       "      <td>Itching, Redness</td>\n",
       "      <td>Allergies</td>\n",
       "      <td>Allergic Reaction An</td>\n",
       "      <td>tihistamine</td>\n",
       "    </tr>\n",
       "    <tr>\n",
       "      <th>284</th>\n",
       "      <td>Sophie Tan</td>\n",
       "      <td>18-02-1975</td>\n",
       "      <td>Female</td>\n",
       "      <td>Muscle Pain, Fatigue</td>\n",
       "      <td>Overexertion</td>\n",
       "      <td>Muscle Strain</td>\n",
       "      <td>Rest, Pain Relievers</td>\n",
       "    </tr>\n",
       "    <tr>\n",
       "      <th>285</th>\n",
       "      <td>Noah Lim</td>\n",
       "      <td>21-05-2005</td>\n",
       "      <td>Male</td>\n",
       "      <td>Nausea, Vomiting</td>\n",
       "      <td>Food Poisoning</td>\n",
       "      <td>Muscle Strain</td>\n",
       "      <td>Rehydration</td>\n",
       "    </tr>\n",
       "    <tr>\n",
       "      <th>286</th>\n",
       "      <td>Ella Wong</td>\n",
       "      <td>05-10-1999</td>\n",
       "      <td>Female</td>\n",
       "      <td>Headache, Blurred Vision</td>\n",
       "      <td>Eye Strain</td>\n",
       "      <td>Muscle Strain</td>\n",
       "      <td>Eye Exercises</td>\n",
       "    </tr>\n",
       "  </tbody>\n",
       "</table>\n",
       "<p>287 rows × 7 columns</p>\n",
       "</div>"
      ],
      "text/plain": [
       "            Name DateOfBirth  Gender                    Symptoms  \\\n",
       "0       John Doe  15-05-1980    Male                Fever, Cough   \n",
       "1     Jane Smith  10-08-1992  Female           Headache, Fatigue   \n",
       "2    Michael Lee  20-02-1975    Male         Shortness of breath   \n",
       "3     Emily Chen  03-11-1988  Female            Nausea, Vomiting   \n",
       "4      Alex Wong  12-06-2001    Male                 Sore Throat   \n",
       "..           ...         ...     ...                         ...   \n",
       "282      Ava Lim  11-07-1993  Female  Cough, Shortness of breath   \n",
       "283     Liam Goh  16-09-1987    Male            Itching, Redness   \n",
       "284   Sophie Tan  18-02-1975  Female        Muscle Pain, Fatigue   \n",
       "285     Noah Lim  21-05-2005    Male            Nausea, Vomiting   \n",
       "286    Ella Wong  05-10-1999  Female    Headache, Blurred Vision   \n",
       "\n",
       "                   Causes               Disease               Medicine  \n",
       "0         Viral Infection           Common Cold        Ibuprofen, Rest  \n",
       "1                  Stress              Migraine            Sumatriptan  \n",
       "2               Pollution                Asthma      Albuterol Inhaler  \n",
       "3          Food Poisoning       Gastroenteritis       Oral Rehydration  \n",
       "4     Bacterial Infection          Strep Throat             Penicillin  \n",
       "..                    ...                   ...                    ...  \n",
       "282  COVID-19 Exposure           COVID-19            Isolation, Fluids  \n",
       "283  Allergies             Allergic Reaction An            tihistamine  \n",
       "284  Overexertion               Muscle Strain     Rest, Pain Relievers  \n",
       "285      Food Poisoning         Muscle Strain              Rehydration  \n",
       "286  Eye Strain                 Muscle Strain            Eye Exercises  \n",
       "\n",
       "[287 rows x 7 columns]"
      ]
     },
     "execution_count": 2,
     "metadata": {},
     "output_type": "execute_result"
    }
   ],
   "source": [
    "medical_df = pd.read_csv('medical data.csv')\n",
    "medical_df"
   ]
  },
  {
   "cell_type": "code",
   "execution_count": 3,
   "metadata": {
    "colab": {
     "base_uri": "https://localhost:8080/",
     "height": 617
    },
    "id": "VVz2LXRchWvb",
    "outputId": "299b4d17-b0d8-474a-f3df-ae39ef89bea5"
   },
   "outputs": [
    {
     "data": {
      "text/html": [
       "<div>\n",
       "<style scoped>\n",
       "    .dataframe tbody tr th:only-of-type {\n",
       "        vertical-align: middle;\n",
       "    }\n",
       "\n",
       "    .dataframe tbody tr th {\n",
       "        vertical-align: top;\n",
       "    }\n",
       "\n",
       "    .dataframe thead th {\n",
       "        text-align: right;\n",
       "    }\n",
       "</style>\n",
       "<table border=\"1\" class=\"dataframe\">\n",
       "  <thead>\n",
       "    <tr style=\"text-align: right;\">\n",
       "      <th></th>\n",
       "      <th>Name</th>\n",
       "      <th>DateOfBirth</th>\n",
       "      <th>Gender</th>\n",
       "      <th>Symptoms</th>\n",
       "      <th>Causes</th>\n",
       "      <th>Disease</th>\n",
       "      <th>Medicine</th>\n",
       "    </tr>\n",
       "  </thead>\n",
       "  <tbody>\n",
       "    <tr>\n",
       "      <th>0</th>\n",
       "      <td>John Doe</td>\n",
       "      <td>15-05-1980</td>\n",
       "      <td>Male</td>\n",
       "      <td>Fever, Cough</td>\n",
       "      <td>Viral Infection</td>\n",
       "      <td>Common Cold</td>\n",
       "      <td>Ibuprofen, Rest</td>\n",
       "    </tr>\n",
       "    <tr>\n",
       "      <th>1</th>\n",
       "      <td>Jane Smith</td>\n",
       "      <td>10-08-1992</td>\n",
       "      <td>Female</td>\n",
       "      <td>Headache, Fatigue</td>\n",
       "      <td>Stress</td>\n",
       "      <td>Migraine</td>\n",
       "      <td>Sumatriptan</td>\n",
       "    </tr>\n",
       "    <tr>\n",
       "      <th>2</th>\n",
       "      <td>Michael Lee</td>\n",
       "      <td>20-02-1975</td>\n",
       "      <td>Male</td>\n",
       "      <td>Shortness of breath</td>\n",
       "      <td>Pollution</td>\n",
       "      <td>Asthma</td>\n",
       "      <td>Albuterol Inhaler</td>\n",
       "    </tr>\n",
       "    <tr>\n",
       "      <th>3</th>\n",
       "      <td>Emily Chen</td>\n",
       "      <td>03-11-1988</td>\n",
       "      <td>Female</td>\n",
       "      <td>Nausea, Vomiting</td>\n",
       "      <td>Food Poisoning</td>\n",
       "      <td>Gastroenteritis</td>\n",
       "      <td>Oral Rehydration</td>\n",
       "    </tr>\n",
       "    <tr>\n",
       "      <th>4</th>\n",
       "      <td>Alex Wong</td>\n",
       "      <td>12-06-2001</td>\n",
       "      <td>Male</td>\n",
       "      <td>Sore Throat</td>\n",
       "      <td>Bacterial Infection</td>\n",
       "      <td>Strep Throat</td>\n",
       "      <td>Penicillin</td>\n",
       "    </tr>\n",
       "    <tr>\n",
       "      <th>...</th>\n",
       "      <td>...</td>\n",
       "      <td>...</td>\n",
       "      <td>...</td>\n",
       "      <td>...</td>\n",
       "      <td>...</td>\n",
       "      <td>...</td>\n",
       "      <td>...</td>\n",
       "    </tr>\n",
       "    <tr>\n",
       "      <th>282</th>\n",
       "      <td>Ava Lim</td>\n",
       "      <td>11-07-1993</td>\n",
       "      <td>Female</td>\n",
       "      <td>Cough, Shortness of breath</td>\n",
       "      <td>COVID-19 Exposure</td>\n",
       "      <td>COVID-19</td>\n",
       "      <td>Isolation, Fluids</td>\n",
       "    </tr>\n",
       "    <tr>\n",
       "      <th>283</th>\n",
       "      <td>Liam Goh</td>\n",
       "      <td>16-09-1987</td>\n",
       "      <td>Male</td>\n",
       "      <td>Itching, Redness</td>\n",
       "      <td>Allergies</td>\n",
       "      <td>Allergic Reaction An</td>\n",
       "      <td>tihistamine</td>\n",
       "    </tr>\n",
       "    <tr>\n",
       "      <th>284</th>\n",
       "      <td>Sophie Tan</td>\n",
       "      <td>18-02-1975</td>\n",
       "      <td>Female</td>\n",
       "      <td>Muscle Pain, Fatigue</td>\n",
       "      <td>Overexertion</td>\n",
       "      <td>Muscle Strain</td>\n",
       "      <td>Rest, Pain Relievers</td>\n",
       "    </tr>\n",
       "    <tr>\n",
       "      <th>285</th>\n",
       "      <td>Noah Lim</td>\n",
       "      <td>21-05-2005</td>\n",
       "      <td>Male</td>\n",
       "      <td>Nausea, Vomiting</td>\n",
       "      <td>Food Poisoning</td>\n",
       "      <td>Muscle Strain</td>\n",
       "      <td>Rehydration</td>\n",
       "    </tr>\n",
       "    <tr>\n",
       "      <th>286</th>\n",
       "      <td>Ella Wong</td>\n",
       "      <td>05-10-1999</td>\n",
       "      <td>Female</td>\n",
       "      <td>Headache, Blurred Vision</td>\n",
       "      <td>Eye Strain</td>\n",
       "      <td>Muscle Strain</td>\n",
       "      <td>Eye Exercises</td>\n",
       "    </tr>\n",
       "  </tbody>\n",
       "</table>\n",
       "<p>241 rows × 7 columns</p>\n",
       "</div>"
      ],
      "text/plain": [
       "            Name DateOfBirth  Gender                    Symptoms  \\\n",
       "0       John Doe  15-05-1980    Male                Fever, Cough   \n",
       "1     Jane Smith  10-08-1992  Female           Headache, Fatigue   \n",
       "2    Michael Lee  20-02-1975    Male         Shortness of breath   \n",
       "3     Emily Chen  03-11-1988  Female            Nausea, Vomiting   \n",
       "4      Alex Wong  12-06-2001    Male                 Sore Throat   \n",
       "..           ...         ...     ...                         ...   \n",
       "282      Ava Lim  11-07-1993  Female  Cough, Shortness of breath   \n",
       "283     Liam Goh  16-09-1987    Male            Itching, Redness   \n",
       "284   Sophie Tan  18-02-1975  Female        Muscle Pain, Fatigue   \n",
       "285     Noah Lim  21-05-2005    Male            Nausea, Vomiting   \n",
       "286    Ella Wong  05-10-1999  Female    Headache, Blurred Vision   \n",
       "\n",
       "                   Causes               Disease               Medicine  \n",
       "0         Viral Infection           Common Cold        Ibuprofen, Rest  \n",
       "1                  Stress              Migraine            Sumatriptan  \n",
       "2               Pollution                Asthma      Albuterol Inhaler  \n",
       "3          Food Poisoning       Gastroenteritis       Oral Rehydration  \n",
       "4     Bacterial Infection          Strep Throat             Penicillin  \n",
       "..                    ...                   ...                    ...  \n",
       "282  COVID-19 Exposure           COVID-19            Isolation, Fluids  \n",
       "283  Allergies             Allergic Reaction An            tihistamine  \n",
       "284  Overexertion               Muscle Strain     Rest, Pain Relievers  \n",
       "285      Food Poisoning         Muscle Strain              Rehydration  \n",
       "286  Eye Strain                 Muscle Strain            Eye Exercises  \n",
       "\n",
       "[241 rows x 7 columns]"
      ]
     },
     "execution_count": 3,
     "metadata": {},
     "output_type": "execute_result"
    }
   ],
   "source": [
    "Patient_name = medical_df['Name'].isna()\n",
    "medical_df = medical_df.loc[Patient_name == False]\n",
    "medical_df"
   ]
  },
  {
   "cell_type": "code",
   "execution_count": 4,
   "metadata": {
    "colab": {
     "base_uri": "https://localhost:8080/"
    },
    "id": "WeJVh4ecmbDl",
    "outputId": "288150c7-7bc7-489d-bd82-c9a1498a7a00"
   },
   "outputs": [],
   "source": [
    "medical_df=medical_df.dropna(subset=['Name'])"
   ]
  },
  {
   "cell_type": "code",
   "execution_count": 5,
   "metadata": {
    "colab": {
     "base_uri": "https://localhost:8080/"
    },
    "id": "uOamXTaammKP",
    "outputId": "f983c0eb-3911-41f2-db96-1172f8d04a19"
   },
   "outputs": [],
   "source": [
    "symptoms_df = medical_df['Symptoms'].str.get_dummies(', ')\n",
    "causes_df = medical_df['Causes'].str.get_dummies(', ')\n",
    "disease_df = medical_df['Disease'].str.get_dummies(', ')\n",
    "medications_df = medical_df['Medicine'].str.get_dummies(', ')"
   ]
  },
  {
   "cell_type": "code",
   "execution_count": 6,
   "metadata": {
    "colab": {
     "base_uri": "https://localhost:8080/"
    },
    "id": "yF4QYbUamp_Q",
    "outputId": "23ffa3a9-3f7d-42ff-edd4-86ad285adcc8"
   },
   "outputs": [],
   "source": [
    "transactions = pd.concat([symptoms_df, causes_df ,disease_df, medications_df], axis=1)"
   ]
  },
  {
   "cell_type": "code",
   "execution_count": 7,
   "metadata": {
    "colab": {
     "base_uri": "https://localhost:8080/"
    },
    "id": "zFUzAkAEmvOP",
    "outputId": "92312ad8-a6f4-4dd6-dee7-445dfb4f50d1"
   },
   "outputs": [
    {
     "name": "stderr",
     "output_type": "stream",
     "text": [
      "C:\\Users\\JESUS\\AppData\\Roaming\\Python\\Python39\\site-packages\\mlxtend\\frequent_patterns\\fpcommon.py:109: DeprecationWarning: DataFrames with non-bool types result in worse computationalperformance and their support might be discontinued in the future.Please use a DataFrame with bool type\n",
      "  warnings.warn(\n"
     ]
    }
   ],
   "source": [
    "frequent_itemsets = apriori(transactions, min_support=0.02, use_colnames=True)\n",
    "rules = association_rules(frequent_itemsets, metric='lift', min_threshold=0.03)"
   ]
  },
  {
   "cell_type": "code",
   "execution_count": 8,
   "metadata": {
    "colab": {
     "base_uri": "https://localhost:8080/"
    },
    "id": "6X2hwuFumynI",
    "outputId": "9c9873be-6973-4328-8bac-90ba611a919b"
   },
   "outputs": [],
   "source": [
    "def recommend(symptoms):\n",
    "    matched_row = None\n",
    "    \n",
    "    # Convert input symptoms to lowercase\n",
    "    symptoms = [s.strip().lower() for s in symptoms]\n",
    "    \n",
    "    # Find the row matching the provided symptoms\n",
    "    for _, row in medical_df.iterrows():  # Changed 'data' to 'medical_df'\n",
    "        # Convert symptoms from the row to lowercase\n",
    "        row_symptoms = str(row['Symptoms']).strip().lower().split(', ')\n",
    "        if set(row_symptoms) == set(symptoms):\n",
    "            matched_row = row\n",
    "            break\n",
    "    \n",
    "    if matched_row is not None:\n",
    "        # Extract cause, medication, and disease from the matched row\n",
    "        cause = matched_row['Causes']\n",
    "        medication = matched_row['Medicine']\n",
    "        disease = matched_row['Disease']\n",
    "        return cause, medication, disease\n",
    "    else:\n",
    "        return \"No recommendations found for the given symptoms.\", None, None\n"
   ]
  },
  {
   "cell_type": "code",
   "execution_count": 9,
   "metadata": {},
   "outputs": [
    {
     "name": "stdout",
     "output_type": "stream",
     "text": [
      "Recommended Cause: Viral Infection\n",
      "Recommended Disease: Common Cold\n",
      "Recommended Medication: Ibuprofen, Rest\n"
     ]
    }
   ],
   "source": [
    "#Fever, Cough:  Viral Infection    Common Cold     Ibuprofen, Rest  \"First cell\"\n",
    "\n",
    "# Example usage\n",
    "symptoms = ['Fever', 'Cough']\n",
    "cause, medication, disease = recommend(symptoms)\n",
    "print(\"Recommended Cause:\", cause)\n",
    "print(\"Recommended Disease:\", disease)\n",
    "print(\"Recommended Medication:\", medication)\n"
   ]
  },
  {
   "cell_type": "code",
   "execution_count": 10,
   "metadata": {},
   "outputs": [
    {
     "name": "stdout",
     "output_type": "stream",
     "text": [
      "Recommended Cause: Viral Infection\n",
      "Recommended Disease: Tonsillitis\n",
      "Recommended Medication: Fluids, Rest\n"
     ]
    }
   ],
   "source": [
    "# Example usage\n",
    "\n",
    "symptoms = [\"Fever\", \"Sore Throat\"]\n",
    "cause, medication, disease = recommend(symptoms)\n",
    "print(\"Recommended Cause:\", cause)\n",
    "print(\"Recommended Disease:\", disease)\n",
    "print(\"Recommended Medication:\", medication)\n"
   ]
  },
  {
   "cell_type": "code",
   "execution_count": 12,
   "metadata": {},
   "outputs": [
    {
     "name": "stdout",
     "output_type": "stream",
     "text": [
      "Enter the symptoms: Muscle Pain, Fatigue\n",
      "Recommended Cause: Overexertion\n",
      "Recommended Disease: Muscle Strain\n",
      "Recommended Medication: Rest, Pain Relievers\n"
     ]
    }
   ],
   "source": [
    "# Shortness of breath\tPollution\tAsthma\tAlbuterol Inhaler\n",
    "# Muscle Pain, Fatigue\tOverexertion\tMuscle Strain\tRest, Pain Relievers\n",
    "\n",
    "symptoms = input(\"Enter the symptoms: \").split(',')\n",
    "cause, medication, disease = recommend(symptoms)\n",
    "print(\"Recommended Cause:\", cause)\n",
    "print(\"Recommended Disease:\", disease)\n",
    "print(\"Recommended Medication:\", medication)\n"
   ]
  },
  {
   "cell_type": "markdown",
   "metadata": {},
   "source": [
    "### If symptoms are duplicated across multiple rows, the most common recommendation will be returned !"
   ]
  }
 ],
 "metadata": {
  "colab": {
   "provenance": []
  },
  "kernelspec": {
   "display_name": "Python 3 (ipykernel)",
   "language": "python",
   "name": "python3"
  },
  "language_info": {
   "codemirror_mode": {
    "name": "ipython",
    "version": 3
   },
   "file_extension": ".py",
   "mimetype": "text/x-python",
   "name": "python",
   "nbconvert_exporter": "python",
   "pygments_lexer": "ipython3",
   "version": "3.9.7"
  }
 },
 "nbformat": 4,
 "nbformat_minor": 1
}
